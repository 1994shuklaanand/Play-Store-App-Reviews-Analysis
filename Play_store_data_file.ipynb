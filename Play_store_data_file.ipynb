{
  "nbformat": 4,
  "nbformat_minor": 0,
  "metadata": {
    "colab": {
      "private_outputs": true,
      "provenance": [],
      "include_colab_link": true
    },
    "kernelspec": {
      "name": "python3",
      "display_name": "Python 3"
    },
    "language_info": {
      "name": "python"
    }
  },
  "cells": [
    {
      "cell_type": "markdown",
      "metadata": {
        "id": "view-in-github",
        "colab_type": "text"
      },
      "source": [
        "<a href=\"https://colab.research.google.com/github/1994shuklaanand/Play-Store-App-Reviews-Analysis/blob/main/Play_store_data_file.ipynb\" target=\"_parent\"><img src=\"https://colab.research.google.com/assets/colab-badge.svg\" alt=\"Open In Colab\"/></a>"
      ]
    },
    {
      "cell_type": "markdown",
      "source": [
        "# **Project Name**    - \n",
        "\n"
      ],
      "metadata": {
        "id": "vncDsAP0Gaoa"
      }
    },
    {
      "cell_type": "markdown",
      "source": [
        "##### **Project Name**    - EDA/Play Store Reviews Analysis\n",
        "##### **Contribution**    - Team\n",
        "##### **Team Member 1 -** - Anand Kumar\n",
        "##### **Team Member 2 -** - Vinay Chaudhary\n"
      ],
      "metadata": {
        "id": "beRrZCGUAJYm"
      }
    },
    {
      "cell_type": "markdown",
      "source": [
        "# **Project Summary -**"
      ],
      "metadata": {
        "id": "FJNUwmbgGyua"
      }
    },
    {
      "cell_type": "markdown",
      "source": [
        "Google Play is a website and app that allows users to download and buy apps, books, games, movies, music, and other Google content for Android devices. Android is the dominant mobile operating system today, powering roughly 85% of all mobile devices. The Google Play Store is the largest and most popular Android app store.An analysis of apps on the Google Play Store would likely involve collecting data on various apps, such as their ratings, number of downloads, and reviews. This data could then be analyzed to identify trends and patterns, such as which types of apps are the most popular or which apps have the highest ratings. The analysis may also look at the characteristics of successful apps, such as their features and functionality, in order to identify what makes them appealing to users. Additionally, the analysis may also examine the overall state of the app market, such as the number of apps available and the level of competition in different categories. The findings of the analysis could be used to inform the development of new apps and to help app developers improve their existing products."
      ],
      "metadata": {
        "id": "F6v_1wHtG2nS"
      }
    },
    {
      "cell_type": "markdown",
      "source": [
        "# **GitHub Link -**"
      ],
      "metadata": {
        "id": "w6K7xa23Elo4"
      }
    },
    {
      "cell_type": "markdown",
      "source": [
        " GitHub Link  https://github.com/1994shuklaanand/Play-Store-App-Reviews-Analysis"
      ],
      "metadata": {
        "id": "h1o69JH3Eqqn"
      }
    },
    {
      "cell_type": "code",
      "source": [],
      "metadata": {
        "id": "RljEdSmXUNZc"
      },
      "execution_count": null,
      "outputs": []
    },
    {
      "cell_type": "markdown",
      "source": [
        "# **Problem Statement**\n"
      ],
      "metadata": {
        "id": "yQaldy8SH6Dl"
      }
    },
    {
      "cell_type": "markdown",
      "source": [
        "**Write Problem Statement Here.**\n",
        "\n",
        "Problem 1   What are the percentage of paid and free apps category wise?\n",
        "\n",
        "Problem 2  Top categories in the app play store ?\n",
        "\n",
        "Problem 3   Popularity of Paid vs Free app from the dataset\n",
        "\n",
        "Problem 4  Percentage of Review sentiments \n",
        "\n",
        "Problem 5  Top 10  installed apps in any category\n",
        "\n",
        "Problem 6  To count of Apps in different genres\n",
        "\n",
        "Problem 7 Group it to 1 till 8 version of android in each category of app\n",
        "\n",
        "Problem 8  Find most number of installed application categorywise?\n"
      ],
      "metadata": {
        "id": "DpeJGUA3kjGy"
      }
    },
    {
      "cell_type": "markdown",
      "source": [
        "#### **Define Your Business Objective?**"
      ],
      "metadata": {
        "id": "PH-0ReGfmX4f"
      }
    },
    {
      "cell_type": "markdown",
      "source": [
        "Answer Here."
      ],
      "metadata": {
        "id": "PhDvGCAqmjP1"
      }
    },
    {
      "cell_type": "markdown",
      "source": [
        "# **General Guidelines** : -  "
      ],
      "metadata": {
        "id": "mDgbUHAGgjLW"
      }
    },
    {
      "cell_type": "markdown",
      "source": [
        "1.   Well-structured, formatted, and commented code is required. \n",
        "2.   Exception Handling, Production Grade Code & Deployment Ready Code will be a plus. Those students will be awarded some additional credits. \n",
        "     \n",
        "     The additional credits will have advantages over other students during Star Student selection.\n",
        "       \n",
        "             [ Note: - Deployment Ready Code is defined as, the whole .ipynb notebook should be executable in one go\n",
        "                       without a single error logged. ]\n",
        "\n",
        "3.   Each and every logic should have proper comments.\n",
        "4. You may add as many number of charts you want. Make Sure for each and every chart the following format should be answered.\n",
        "        \n",
        "\n",
        "```\n",
        "# Chart visualization code\n",
        "```\n",
        "            \n",
        "\n",
        "*   Why did you pick the specific chart?\n",
        "*   What is/are the insight(s) found from the chart?\n",
        "* Will the gained insights help creating a positive business impact? \n",
        "Are there any insights that lead to negative growth? Justify with specific reason.\n",
        "\n",
        "5. You have to create at least 20 logical & meaningful charts having important insights.\n",
        "\n",
        "\n",
        "[ Hints : - Do the Vizualization in  a structured way while following \"UBM\" Rule. \n",
        "\n",
        "U - Univariate Analysis,\n",
        "\n",
        "B - Bivariate Analysis (Numerical - Categorical, Numerical - Numerical, Categorical - Categorical)\n",
        "\n",
        "M - Multivariate Analysis\n",
        " ]\n",
        "\n",
        "\n",
        "\n"
      ],
      "metadata": {
        "id": "ZrxVaUj-hHfC"
      }
    },
    {
      "cell_type": "markdown",
      "source": [
        "# ***Let's Begin !***"
      ],
      "metadata": {
        "id": "O_i_v8NEhb9l"
      }
    },
    {
      "cell_type": "markdown",
      "source": [
        "## ***1. Know Your Data***"
      ],
      "metadata": {
        "id": "HhfV-JJviCcP"
      }
    },
    {
      "cell_type": "markdown",
      "source": [
        "### Import Libraries"
      ],
      "metadata": {
        "id": "Y3lxredqlCYt"
      }
    },
    {
      "cell_type": "code",
      "source": [
        "# Import Libraries\n",
        "import numpy as np\n",
        "import pandas as pd\n",
        "import seaborn as sns\n",
        "import matplotlib.pyplot as plt"
      ],
      "metadata": {
        "id": "M8Vqi-pPk-HR"
      },
      "execution_count": null,
      "outputs": []
    },
    {
      "cell_type": "markdown",
      "source": [
        "### Dataset Loading"
      ],
      "metadata": {
        "id": "3RnN4peoiCZX"
      }
    },
    {
      "cell_type": "code",
      "source": [
        "# Load Dataset\n",
        "from google.colab import drive\n",
        "drive.mount('/content/drive')"
      ],
      "metadata": {
        "id": "XqsDuJYVavRg"
      },
      "execution_count": null,
      "outputs": []
    },
    {
      "cell_type": "code",
      "source": [
        "#creating data files path and reading the csv files\n",
        "path1 = ('/content/drive/MyDrive/Play store Review Analysis/Play Store Data.csv')\n",
        "playstore_df = pd.read_csv(path1)\n",
        "path2 = ('/content/drive/MyDrive/Play store Review Analysis/User Reviews.csv')\n",
        "user_reviews_df = pd.read_csv(path2)"
      ],
      "metadata": {
        "id": "dMkkqsiLavPI"
      },
      "execution_count": null,
      "outputs": []
    },
    {
      "cell_type": "markdown",
      "source": [
        "### Dataset First View"
      ],
      "metadata": {
        "id": "x71ZqKXriCWQ"
      }
    },
    {
      "cell_type": "code",
      "source": [
        "playstore_df.head()"
      ],
      "metadata": {
        "id": "_8Werj_ofJie"
      },
      "execution_count": null,
      "outputs": []
    },
    {
      "cell_type": "code",
      "source": [
        "user_reviews_df.head()"
      ],
      "metadata": {
        "id": "oD6h2vrffaX0"
      },
      "execution_count": null,
      "outputs": []
    },
    {
      "cell_type": "markdown",
      "source": [
        "**Dataset Rows & Coulmn Count**"
      ],
      "metadata": {
        "id": "HRJKCRsZBtJs"
      }
    },
    {
      "cell_type": "code",
      "source": [
        "## Dataset Rows & Coulmn Count\n",
        "user_reviews_df.shape"
      ],
      "metadata": {
        "id": "MgfDQxqYfnqX"
      },
      "execution_count": null,
      "outputs": []
    },
    {
      "cell_type": "code",
      "source": [
        "# Dataset Column\n",
        "playstore_df.columns"
      ],
      "metadata": {
        "id": "p8zn_oxHCiAO"
      },
      "execution_count": null,
      "outputs": []
    },
    {
      "cell_type": "code",
      "source": [
        "user_reviews_df.columns"
      ],
      "metadata": {
        "id": "QTYirCXtC2o9"
      },
      "execution_count": null,
      "outputs": []
    },
    {
      "cell_type": "markdown",
      "source": [
        "### Dataset Information"
      ],
      "metadata": {
        "id": "JlHwYmJAmNHm"
      }
    },
    {
      "cell_type": "code",
      "source": [
        "playstore_df.info()"
      ],
      "metadata": {
        "id": "GMWmgy-YfuTV"
      },
      "execution_count": null,
      "outputs": []
    },
    {
      "cell_type": "code",
      "source": [
        "user_reviews_df.info()"
      ],
      "metadata": {
        "id": "QcdslYiWf2yu"
      },
      "execution_count": null,
      "outputs": []
    },
    {
      "cell_type": "markdown",
      "source": [
        "#**DATA CLEANING**\n"
      ],
      "metadata": {
        "id": "2qxHrCrNJxuQ"
      }
    },
    {
      "cell_type": "markdown",
      "source": [
        "#### Duplicate Values"
      ],
      "metadata": {
        "id": "35m5QtbWiB9F"
      }
    },
    {
      "cell_type": "code",
      "source": [
        "playstore_df.duplicated().sum()"
      ],
      "metadata": {
        "id": "nGx9XpVZgj5H"
      },
      "execution_count": null,
      "outputs": []
    },
    {
      "cell_type": "code",
      "source": [
        "user_reviews_df.duplicated().sum()"
      ],
      "metadata": {
        "id": "55lrYR7_gIlw"
      },
      "execution_count": null,
      "outputs": []
    },
    {
      "cell_type": "markdown",
      "source": [
        "#Checking how many outliers are there"
      ],
      "metadata": {
        "id": "hltYsd58TBp4"
      }
    },
    {
      "cell_type": "code",
      "source": [
        "playstore_df.hist()"
      ],
      "metadata": {
        "id": "9mxX6hP6zK2t"
      },
      "execution_count": null,
      "outputs": []
    },
    {
      "cell_type": "code",
      "source": [
        "playstore_df.boxplot()"
      ],
      "metadata": {
        "id": "yxQzJZlfh11j"
      },
      "execution_count": null,
      "outputs": []
    },
    {
      "cell_type": "code",
      "source": [
        "playstore_df[playstore_df['Rating']==5.0]"
      ],
      "metadata": {
        "id": "NFWbt2UKgux4"
      },
      "execution_count": null,
      "outputs": []
    },
    {
      "cell_type": "code",
      "source": [
        "# Drop the data which have rationg greater then 5\n",
        "playstore_df.drop([10472], inplace = True)"
      ],
      "metadata": {
        "id": "7qRA4RmVohac"
      },
      "execution_count": null,
      "outputs": []
    },
    {
      "cell_type": "code",
      "source": [
        "# Check the data has been droped from the column or not\n",
        "playstore_df[10470:10475]"
      ],
      "metadata": {
        "id": "kg5L_03Oi86i"
      },
      "execution_count": null,
      "outputs": []
    },
    {
      "cell_type": "code",
      "source": [
        "playstore_df.hist()"
      ],
      "metadata": {
        "id": "607TNDhzzi_e"
      },
      "execution_count": null,
      "outputs": []
    },
    {
      "cell_type": "markdown",
      "source": [
        "#### Missing Values/Null Values"
      ],
      "metadata": {
        "id": "PoPl-ycgm1ru"
      }
    },
    {
      "cell_type": "code",
      "source": [
        "# Missing Values/Null Values Count\n",
        "playstore_df.isnull().sum()"
      ],
      "metadata": {
        "id": "o62YBzYAhi8M"
      },
      "execution_count": null,
      "outputs": []
    },
    {
      "cell_type": "markdown",
      "source": [
        "### What did you know about your dataset?"
      ],
      "metadata": {
        "id": "H0kj-8xxnORC"
      }
    },
    {
      "cell_type": "markdown",
      "source": [
        "Till now we get to know the following points about our dataset:\n",
        "\n",
        "\n",
        "1.Play store data there are 274 rows × 13 columns and highest non value in rating 1474.\n",
        "2.There are  duplicate values present in both the datasets.play store and user review data value sum is 483and 33616.\n",
        "\n",
        "\n"
      ],
      "metadata": {
        "id": "t1RkufXf4XEJ"
      }
    },
    {
      "cell_type": "markdown",
      "source": [
        "## ***2. Understanding Your Variables***"
      ],
      "metadata": {
        "id": "nA9Y7ga8ng1Z"
      }
    },
    {
      "cell_type": "code",
      "source": [
        "# Dataset Columns\n",
        "playstore_df.columns"
      ],
      "metadata": {
        "id": "EkyvRqZEz7Vx"
      },
      "execution_count": null,
      "outputs": []
    },
    {
      "cell_type": "code",
      "source": [
        "# Dataset Columns\n",
        "user_reviews_df.columns"
      ],
      "metadata": {
        "id": "fjDaoa_2z5kz"
      },
      "execution_count": null,
      "outputs": []
    },
    {
      "cell_type": "code",
      "source": [
        "# Dataset Describe\n",
        "playstore_df.describe()"
      ],
      "metadata": {
        "id": "H5q8zlZc0Vzc"
      },
      "execution_count": null,
      "outputs": []
    },
    {
      "cell_type": "code",
      "source": [
        "# Dataset Describe\n",
        "user_reviews_df.describe()"
      ],
      "metadata": {
        "id": "DnOaZdaE5Q5t"
      },
      "execution_count": null,
      "outputs": []
    },
    {
      "cell_type": "markdown",
      "source": [
        "### Variables Description "
      ],
      "metadata": {
        "id": "PBTbrJXOngz2"
      }
    },
    {
      "cell_type": "markdown",
      "source": [
        "1.App:different type app are found education,medical,entertainment etc.\n",
        "2.Rating:google play store app maximum rating is 5 and minimum rating is 1.\n",
        "3.Android Ver:Different type of android version in play store.\n",
        "4.Price: Depend upon which area you have intrested like education,law,agiculture etc.price may vary.\n",
        "5.Genres:May be communication,peslisation,tool etc.\n",
        "6.reviews:More reviews then enhances product quality.\n",
        "7.Sentiment:Sentiment polarity postivand nan.\n",
        "9.Sentiment polarity: maximum 1and other nan polarity are show.\n",
        "\n",
        "\n"
      ],
      "metadata": {
        "id": "z4fgPMvJUs2i"
      }
    },
    {
      "cell_type": "markdown",
      "source": [
        "### Check Unique Values for each variable."
      ],
      "metadata": {
        "id": "u3PMJOP6ngxN"
      }
    },
    {
      "cell_type": "code",
      "source": [
        "# Check Unique Values for each variable.\n",
        "playstore_df.nunique()"
      ],
      "metadata": {
        "id": "zms12Yq5n-jE"
      },
      "execution_count": null,
      "outputs": []
    },
    {
      "cell_type": "code",
      "source": [
        "user_reviews_df.nunique()"
      ],
      "metadata": {
        "id": "dlG6kD4J0yPR"
      },
      "execution_count": null,
      "outputs": []
    },
    {
      "cell_type": "markdown",
      "source": [
        "## 3. ***Data Wrangling***"
      ],
      "metadata": {
        "id": "dauF4eBmngu3"
      }
    },
    {
      "cell_type": "markdown",
      "source": [
        "### Data Wrangling Code"
      ],
      "metadata": {
        "id": "bKJF3rekwFvQ"
      }
    },
    {
      "cell_type": "code",
      "source": [
        "# Write your code to make your dataset analysis ready."
      ],
      "metadata": {
        "id": "wk-9a2fpoLcV"
      },
      "execution_count": null,
      "outputs": []
    },
    {
      "cell_type": "code",
      "source": [
        "def impute_median(series):\n",
        "  return series.fillna(series.median)"
      ],
      "metadata": {
        "id": "ELT-arcxhBuj"
      },
      "execution_count": null,
      "outputs": []
    },
    {
      "cell_type": "code",
      "source": [
        "playstore_df.Rating = playstore_df['Rating'].transform(impute_median)"
      ],
      "metadata": {
        "id": "ZQdECcRNhmY4"
      },
      "execution_count": null,
      "outputs": []
    },
    {
      "cell_type": "code",
      "source": [
        "playstore_df.isnull().sum()"
      ],
      "metadata": {
        "id": "UwGm5OXTiIQV"
      },
      "execution_count": null,
      "outputs": []
    },
    {
      "cell_type": "code",
      "source": [
        "#Clean string function into useful one\n",
        "\n",
        "def clean_it(num):\n",
        "  \"\"\"This function takes a string and replace the following characters if present, '+', ',' ,'$', 'M', 'k', 'NaN'\"\"\"\n",
        "  if '+' in num:\n",
        "    num = num.replace('+','')\n",
        "  if ',' in num:\n",
        "    num = num.replace(',','')\n",
        "  if '$' in num:\n",
        "    num = num.replace('$','')\n",
        "  if 'M' in num:\n",
        "    num = str(int(float(num.replace('M',''))*1000000))\n",
        "  if 'k' in num:\n",
        "    num = str(int(float(num.replace('k',''))*1000))\n",
        "  if 'NaN' in num:\n",
        "    num = '0'\n",
        "  else:\n",
        "    pass\n",
        "  return num"
      ],
      "metadata": {
        "id": "TxKEFJM06sre"
      },
      "execution_count": null,
      "outputs": []
    },
    {
      "cell_type": "code",
      "source": [
        "# Cleaning the unwanted charactors and converting the required column values into valid numeric type\n",
        "\n",
        "#Changing the 'Reviews' column values into valid numeric values\n",
        "playstore_df['Reviews'] = pd.to_numeric(playstore_df['Reviews'])\n",
        "\n",
        "#Changing the 'Size' column values into valid numeric values\n",
        "playstore_df['Size'] = playstore_df['Size'].apply(lambda x: str(x).replace('Varies with device', 'NaN') if 'Varies with device' in str(x) else x)\n",
        "playstore_df['Size'] = pd.to_numeric(playstore_df['Size'].map(lambda x: clean_it(x)))\n",
        "\n",
        "#Changing the 'Installs' column values into valid numeric values\n",
        "playstore_df['Installs'] = pd.to_numeric(playstore_df['Installs'].map(lambda x: clean_it(x)))\n",
        "\n",
        "#Changing the 'Price' column values into valid numeric values\n",
        "playstore_df['Price'] = pd.to_numeric (playstore_df['Price'].map(lambda x:clean_it(x)))\n",
        "playstore_df.info()"
      ],
      "metadata": {
        "id": "kBi-ycEEoYmJ"
      },
      "execution_count": null,
      "outputs": []
    },
    {
      "cell_type": "code",
      "source": [
        "# Eleminating all the null value row from the user Review database\n",
        "non_null_user_reviews_df = user_reviews_df[~user_reviews_df['Sentiment'].isna()]\n",
        "non_null_user_reviews_df.info()"
      ],
      "metadata": {
        "id": "Ym_cYd0w9l8P"
      },
      "execution_count": null,
      "outputs": []
    },
    {
      "cell_type": "markdown",
      "source": [
        "### What all manipulations have you done and insights you found?"
      ],
      "metadata": {
        "id": "MSa1f5Uengrz"
      }
    },
    {
      "cell_type": "markdown",
      "source": [
        "Hurray! Till now we have succesfully done the following tasks:\n",
        "1. Dropped the unimportant null values from both the datasets.\n",
        "\n",
        "2. Dropped all the duplicate columns which are of no use while gaining insights.\n",
        "\n",
        "3. Typecasted our dataset columns into proper formats('Installs' > int, 'Price' > float and 'Last Updated' > timestamp)."
      ],
      "metadata": {
        "id": "haaLlv2pbt8T"
      }
    },
    {
      "cell_type": "markdown",
      "source": [
        "## ***4. Data Vizualization, Storytelling & Experimenting with charts : Understand the relationships between variables***"
      ],
      "metadata": {
        "id": "GF8Ens_Soomf"
      }
    },
    {
      "cell_type": "markdown",
      "source": [
        "#### Chart - 1"
      ],
      "metadata": {
        "id": "0wOQAZs5pc--"
      }
    },
    {
      "cell_type": "code",
      "source": [
        "#Category wise free and paid app installs count\n",
        "categoty_type_installs_df = playstore_df.groupby(['Category','Type'])[['Installs']].sum().unstack().reset_index()\n",
        "categoty_type_installs_df = categoty_type_installs_df[~categoty_type_installs_df['Installs']['Paid'].isna()].set_index('Category')\n",
        "categoty_type_installs_df"
      ],
      "metadata": {
        "id": "ezqqB1Qc6CbQ"
      },
      "execution_count": null,
      "outputs": []
    },
    {
      "cell_type": "code",
      "source": [
        "#Plot between Paid and Free installed app counts\n",
        "color_red = '#4472c4'\n",
        "color_blue = '#ed7d31'\n",
        "\n",
        "ind = categoty_type_installs_df.index\n",
        "column0 = categoty_type_installs_df['Installs']['Paid']\n",
        "column1 = categoty_type_installs_df['Installs']['Free']\n",
        "title0 = 'Paid app install Counts(in millions)'\n",
        "title1 = 'Free app install Counts(in 100 millions)'\n",
        "\n",
        "fig, axes = plt.subplots(figsize=(10,10), ncols=2, sharey=True)\n",
        "fig.tight_layout()\n",
        "\n",
        "axes[0].barh(ind, column0, align='center', color=color_red, zorder=10)\n",
        "axes[0].set_title(title0, fontsize=18, pad=15, color=color_red)\n",
        "axes[1].barh(ind, column1, align='center', color=color_blue, zorder=10)\n",
        "axes[1].set_title(title1, fontsize=18, pad=15, color=color_blue)\n",
        "    \n",
        "# If you have positive numbers and want to invert the x-axis of the left plot\n",
        "axes[0].invert_xaxis() \n",
        "\n",
        "# To show data from highest to lowest\n",
        "# plt.gca().invert_yaxis()\n",
        "axes[0].set(yticks=ind, yticklabels=ind)\n",
        "axes[0].yaxis.tick_left()\n",
        "\n",
        "plt.subplots_adjust(wspace=0, top=0.85, bottom=0.1, left=0.18, right=0.95)"
      ],
      "metadata": {
        "id": "lz6BOyG96Hxn"
      },
      "execution_count": null,
      "outputs": []
    },
    {
      "cell_type": "markdown",
      "source": [
        "##### 1. Why did you pick the specific chart?"
      ],
      "metadata": {
        "id": "K5QZ13OEpz2H"
      }
    },
    {
      "cell_type": "markdown",
      "source": [
        "The specific chart in given information paid app install counts(in millions) and Free app install counts(in 100 in millions)"
      ],
      "metadata": {
        "id": "Mu43qTcG2bju"
      }
    },
    {
      "cell_type": "markdown",
      "source": [
        "##### 2. What is/are the insight(s) found from the chart?"
      ],
      "metadata": {
        "id": "lQ7QKXXCp7Bj"
      }
    },
    {
      "cell_type": "markdown",
      "source": [
        "In paid app more installed app family and game app  and Fre app more installed app in game and social and other category app shopping and photography app install in moe in Free and less in paid app both paid."
      ],
      "metadata": {
        "id": "ItBlJ7g87Ase"
      }
    },
    {
      "cell_type": "markdown",
      "source": [
        "##### 3. Will the gained insights help creating a positive business impact? \n",
        "Are there any insights that lead to negative growth? Justify with specific reason."
      ],
      "metadata": {
        "id": "448CDAPjqfQr"
      }
    },
    {
      "cell_type": "markdown",
      "source": [
        "The gained insights help creating a postive business impact paid app family,game and free app game,social more installed app.negative growth paid app vedio player, travel and local other free app wheather,food and drink,dating app are less installed."
      ],
      "metadata": {
        "id": "4xArxseN-T0s"
      }
    },
    {
      "cell_type": "markdown",
      "source": [
        "#### Chart - 2"
      ],
      "metadata": {
        "id": "KSlN3yHqYklG"
      }
    },
    {
      "cell_type": "code",
      "source": [
        "# Importing of library of visulization ->\n",
        "import seaborn as sns\n",
        "import matplotlib\n",
        "import matplotlib.pyplot as plt\n",
        "%matplotlib inline\n",
        "\n",
        "sns.set_style('darkgrid')\n",
        "matplotlib.rcParams['font.size'] = 16\n",
        "matplotlib.rcParams['figure.figsize'] = (10, 7)\n",
        "matplotlib.rcParams['figure.facecolor'] = '#00000000'"
      ],
      "metadata": {
        "id": "m78C0b0p8IFV"
      },
      "execution_count": null,
      "outputs": []
    },
    {
      "cell_type": "code",
      "source": [
        "## TOP CATEGORIES APPS IN THE PLAY STORE , WHICH CONTAINS THE HIGHEST NUMBER OF APPS ->\n",
        "y = playstore_df['Category'].value_counts().index\n",
        "x = playstore_df['Category'].value_counts()\n",
        "xsis = []\n",
        "ysis = []\n",
        "for i in range(len(x)):\n",
        "    xsis.append(x[i])\n",
        "    ysis.append(y[i])"
      ],
      "metadata": {
        "id": "4vP_UkCq8N2O"
      },
      "execution_count": null,
      "outputs": []
    },
    {
      "cell_type": "code",
      "source": [
        "## DEFINING 'X' AND 'Y' AXIS AND SEE ->\n",
        "plt.figure(figsize=(20,15))\n",
        "plt.xlabel(\"Count\")\n",
        "plt.ylabel(\"Category\")\n",
        "\n",
        "graph = sns.barplot(x = xsis, y = ysis, palette= \"husl\")\n",
        "graph.set_title(\"Top categories on Google Playstore\", fontsize = 27);"
      ],
      "metadata": {
        "id": "MZ2UIXgd8SPy"
      },
      "execution_count": null,
      "outputs": []
    },
    {
      "cell_type": "markdown",
      "source": [
        "##### 1. Why did you pick the specific chart?"
      ],
      "metadata": {
        "id": "t6dVpIINYklI"
      }
    },
    {
      "cell_type": "markdown",
      "source": [
        "In this easy to understand and perfect visulation and the top most category app family,game,tool etc\n",
        "less category app beauty,comics etc"
      ],
      "metadata": {
        "id": "R7UQeZk57nVt"
      }
    },
    {
      "cell_type": "markdown",
      "source": [
        "2. What is/are the insight(s) found from the chart?"
      ],
      "metadata": {
        "id": "FQORN3LF-4Vz"
      }
    },
    {
      "cell_type": "markdown",
      "source": [
        "Infamily category  app 1950 and game category app 1250 and other category app are less are found\n"
      ],
      "metadata": {
        "id": "HVnMxVsqdD-h"
      }
    },
    {
      "cell_type": "markdown",
      "source": [
        "##### 3. Will the gained insights help creating a positive business impact? \n",
        "Are there any insights that lead to negative growth? Justify with specific reason."
      ],
      "metadata": {
        "id": "-JiQyfWJYklI"
      }
    },
    {
      "cell_type": "markdown",
      "source": [
        "Top most category app will the gained insight help creating apostive business impact.\n",
        "Less category app such as beauty,comics,parenting,eventmeans less installed then there any insight that lead to negative growth."
      ],
      "metadata": {
        "id": "nMu1eT-B86jk"
      }
    },
    {
      "cell_type": "markdown",
      "source": [
        "#### Chart - 3"
      ],
      "metadata": {
        "id": "EM7whBJCYoAo"
      }
    },
    {
      "cell_type": "code",
      "source": [
        "# Print the popularity of Paid vs free app from the dataset\n",
        "\n",
        "fig,ax1 = plt.subplots(figsize=(12,8))\n",
        "freevspaid = playstore_df.groupby('Type').size()\n",
        "plt.pie(freevspaid,labels=['Free','Paid'],shadow=True,autopct='%.2f')\n",
        "plt.show()"
      ],
      "metadata": {
        "id": "0N19nPUi8ps2"
      },
      "execution_count": null,
      "outputs": []
    },
    {
      "cell_type": "markdown",
      "source": [
        "##### 1. Why did you pick the specific chart?"
      ],
      "metadata": {
        "id": "fge-S5ZAYoAp"
      }
    },
    {
      "cell_type": "markdown",
      "source": [
        "Answer Here."
      ],
      "metadata": {
        "id": "5dBItgRVYoAp"
      }
    },
    {
      "cell_type": "markdown",
      "source": [
        "Pie chart show maximum data in both format continuous and discontinuous and this chart given information free and paid app popularty."
      ],
      "metadata": {
        "id": "ffISJtChd4C7"
      }
    },
    {
      "cell_type": "markdown",
      "source": [
        "##### 2. What is/are the insight(s) found from the chart?"
      ],
      "metadata": {
        "id": "85gYPyotYoAp"
      }
    },
    {
      "cell_type": "markdown",
      "source": [
        "In pie chart show free app 92.62% which is more popular in public and less popular in paid app 7.38% which is clearly show in chart."
      ],
      "metadata": {
        "id": "Dk17QNv8eitn"
      }
    },
    {
      "cell_type": "markdown",
      "source": [
        "##### 3. Will the gained insights help creating a positive business impact? \n",
        "Are there any insights that lead to negative growth? Justify with specific reason."
      ],
      "metadata": {
        "id": "RoGjAbkUYoAp"
      }
    },
    {
      "cell_type": "markdown",
      "source": [
        "Free app more installed  and more popularty means postive response in business and less popular or paid app negative growth in business ."
      ],
      "metadata": {
        "id": "u7rc4H50fhL0"
      }
    },
    {
      "cell_type": "markdown",
      "source": [
        "#### Chart - 4"
      ],
      "metadata": {
        "id": "4Of9eVA-YrdM"
      }
    },
    {
      "cell_type": "code",
      "source": [
        "#Percentage of Review sentiments\n",
        "non_null_user_reviews_df['Sentiment'].value_counts().plot(kind='pie', explode= (0.1,0.1,0.1), shadow=True, autopct='%1.2f%%', pctdistance=1.5, labeldistance=1.8)"
      ],
      "metadata": {
        "id": "oHKuSbsC8zNw"
      },
      "execution_count": null,
      "outputs": []
    },
    {
      "cell_type": "markdown",
      "source": [
        "##### 1. Why did you pick the specific chart?"
      ],
      "metadata": {
        "id": "iky9q4vBYrdO"
      }
    },
    {
      "cell_type": "markdown",
      "source": [
        "In this pie graph easy to understandand percent of reviews more in sentiment and then neutral and negative."
      ],
      "metadata": {
        "id": "65TnHhl7B_6h"
      }
    },
    {
      "cell_type": "markdown",
      "source": [
        "##### 2. What is/are the insight(s) found from the chart?"
      ],
      "metadata": {
        "id": "F6T5p64dYrdO"
      }
    },
    {
      "cell_type": "markdown",
      "source": [
        "In percent of review sentiment 64% and neutral 13.79%and negative 22.10% are show the more effective way."
      ],
      "metadata": {
        "id": "RttYXfZLDzGr"
      }
    },
    {
      "cell_type": "markdown",
      "source": [
        "##### 3. Will the gained insights help creating a positive business impact? \n",
        "Are there any insights that lead to negative growth? Justify with specific reason."
      ],
      "metadata": {
        "id": "y-Ehk30pYrdP"
      }
    },
    {
      "cell_type": "markdown",
      "source": [
        "In sentiment percent of review is more and will gained insights help creating a postive business impact.\n",
        "percent of review in neutral,negative is less compared to sentiment review so there are negative growth in business."
      ],
      "metadata": {
        "id": "7H_CLZyxElWx"
      }
    },
    {
      "cell_type": "markdown",
      "source": [
        "#### Chart - 5"
      ],
      "metadata": {
        "id": "bamQiAODYuh1"
      }
    },
    {
      "cell_type": "code",
      "source": [
        "# Chart - 5 visualization code\n",
        "#View the Top 10 installed apps in any category?\n",
        "def findtop10incategory(str):\n",
        "    str = str.upper()\n",
        "    top10 = playstore_df[playstore_df['Category'] == str]\n",
        "    top10apps = top10.sort_values(by='Installs', ascending=False).head(10)\n",
        "    # Top_Apps_in_art_and_design\n",
        "    plt.figure(figsize=(15,12))\n",
        "    plt.title('Top 10 Installed Apps',size = 20);    \n",
        "    graph = sns.barplot(x = top10apps.App, y = top10apps.Installs)\n",
        "    graph.set_xticklabels(graph.get_xticklabels(), rotation= 45, horizontalalignment='right');"
      ],
      "metadata": {
        "id": "TIJwrbroYuh3"
      },
      "execution_count": null,
      "outputs": []
    },
    {
      "cell_type": "code",
      "source": [
        "findtop10incategory('Sports')"
      ],
      "metadata": {
        "id": "pIHrWbBq971o"
      },
      "execution_count": null,
      "outputs": []
    },
    {
      "cell_type": "markdown",
      "source": [
        "##### 1. Why did you pick the specific chart?"
      ],
      "metadata": {
        "id": "QHF8YVU7Yuh3"
      }
    },
    {
      "cell_type": "markdown",
      "source": [
        "This chart are easily understand and show the bar graph and in every app width are same in this graph represent different category top 10 app."
      ],
      "metadata": {
        "id": "gDFTV8TjDa-x"
      }
    },
    {
      "cell_type": "markdown",
      "source": [
        "##### 2. What is/are the insight(s) found from the chart?"
      ],
      "metadata": {
        "id": "GwzvFGzlYuh3"
      }
    },
    {
      "cell_type": "markdown",
      "source": [
        "Top 10 category app are installed just like as Fifa soccer,Dream league soccer 2018 8 Ball pool,3-D bowling are same but other app just like as 3-D Tennis,NFL,Top eleven 2018-be asoccer manager,NBA live mobile basket ball are samecategory app."
      ],
      "metadata": {
        "id": "TySV-yw2EnKW"
      }
    },
    {
      "cell_type": "markdown",
      "source": [
        "##### 3. Will the gained insights help creating a positive business impact? \n",
        "Are there any insights that lead to negative growth? Justify with specific reason."
      ],
      "metadata": {
        "id": "qYpmQ266Yuh3"
      }
    },
    {
      "cell_type": "markdown",
      "source": [
        "Fifa soccer,Dream league soccer 2018,8 ball pool are these type app are more installed and maximum public are like in this app and  then effect in business.\n",
        "3-D tennis,NFL,Nba live mobile basket ball are these type app are less install because of less no. of people like in these type app.\n"
      ],
      "metadata": {
        "id": "u-uM_kHOF14V"
      }
    },
    {
      "cell_type": "markdown",
      "source": [
        "#### Chart - 6"
      ],
      "metadata": {
        "id": "OH-pJp9IphqM"
      }
    },
    {
      "cell_type": "code",
      "source": [
        "# Code to find most number of installed application\n",
        "highest_Installs_df = playstore_df.groupby('Category')[['Installs']].sum().sort_values(by='Installs', ascending=False)"
      ],
      "metadata": {
        "id": "i6v8mKxHrJ20"
      },
      "execution_count": null,
      "outputs": []
    },
    {
      "cell_type": "code",
      "source": [
        "# Chart - 6 visualization code\n",
        "#View the graph \n",
        "x2sis = []\n",
        "y2sis = []\n",
        "\n",
        "for i in range(len(highest_Installs_df)):\n",
        "    x2sis.append(highest_Installs_df.Installs[i])\n",
        "    y2sis.append(highest_Installs_df.index[i])\n",
        "\n",
        "plt.figure(figsize=(18,13))\n",
        "\n",
        "plt.xlabel(\"Installs\")\n",
        "plt.ylabel(\"Category\")\n",
        "graph = sns.barplot(x = xsis, y = ysis, alpha =1, palette= \"viridis\")\n",
        "graph.set_title(\"Installs\", fontsize = 20);\n"
      ],
      "metadata": {
        "id": "BBkUJpW3q-FO"
      },
      "execution_count": null,
      "outputs": []
    },
    {
      "cell_type": "markdown",
      "source": [
        "##### 1. Why did you pick the specific chart?"
      ],
      "metadata": {
        "id": "bbFf2-_FphqN"
      }
    },
    {
      "cell_type": "markdown",
      "source": [
        "In this graph clearly found content rating in coulmn  more in play store."
      ],
      "metadata": {
        "id": "lGRWhntvJhjd"
      }
    },
    {
      "cell_type": "markdown",
      "source": [
        "##### 2. What is/are the insight(s) found from the chart?"
      ],
      "metadata": {
        "id": "_ouA3fa0phqN"
      }
    },
    {
      "cell_type": "markdown",
      "source": [
        "In this chart plot between content rating and apps(count) and more content rating in everyone,teen and then less mature17+ everyone,10 adults only18+unrated."
      ],
      "metadata": {
        "id": "o9PQRhFMKOaG"
      }
    },
    {
      "cell_type": "markdown",
      "source": [
        "##### 3. Will the gained insights help creating a positive business impact? \n",
        "Are there any insights that lead to negative growth? Justify with specific reason."
      ],
      "metadata": {
        "id": "Seke61FWphqN"
      }
    },
    {
      "cell_type": "markdown",
      "source": [
        "evryone content rating rating more and apps(count) more and which business impact more\n",
        "teen,mature17+everyone,10adults only18 + unrated are less content rating and less app(count) then lead tonegative growth."
      ],
      "metadata": {
        "id": "cX5fdDcqLpnD"
      }
    },
    {
      "cell_type": "markdown",
      "source": [
        "#### Chart - 7"
      ],
      "metadata": {
        "id": "PIIx-8_IphqN"
      }
    },
    {
      "cell_type": "code",
      "source": [
        "# Chart - 7 visualization code\n",
        "# Code to count of Apps in different genres?\n",
        "topAppsinGenres = playstore_df['Genres'].value_counts().head(50)\n",
        "x3sis = []\n",
        "y3sis = []\n",
        "\n",
        "for i in range(len(topAppsinGenres)):\n",
        "    x3sis.append(topAppsinGenres.index[i])\n",
        "    y3sis.append(topAppsinGenres[i])\n",
        "\n",
        "# a state to plot and gain an insight into our raised question.\n",
        "\n",
        "plt.figure(figsize=(15,9))\n",
        "plt.ylabel('Genres(App Count)')\n",
        "plt.xlabel('Genres')\n",
        "graph = sns.barplot(x=x3sis,y=y3sis,palette=\"deep\")\n",
        "graph.set_xticklabels(graph.get_xticklabels(), rotation=90, fontsize=12)\n",
        "graph.set_title(\"Top Genres in the Playstore\", fontsize = 20);"
      ],
      "metadata": {
        "id": "lqAIGUfyphqO"
      },
      "execution_count": null,
      "outputs": []
    },
    {
      "cell_type": "markdown",
      "source": [
        "##### 1. Why did you pick the specific chart?"
      ],
      "metadata": {
        "id": "t27r6nlMphqO"
      }
    },
    {
      "cell_type": "markdown",
      "source": [
        "In this graph  shows bar graph which is easily to understand count apps in different generes."
      ],
      "metadata": {
        "id": "lrqNyAE4PvW5"
      }
    },
    {
      "cell_type": "markdown",
      "source": [
        "##### 2. What is/are the insight(s) found from the chart?"
      ],
      "metadata": {
        "id": "r2jJGEOYphqO"
      }
    },
    {
      "cell_type": "markdown",
      "source": [
        "In Genres app (count) tool 850,Entertainment 620,Education 550, Medical 450, Business 450 more app and other world 20,educational 30,beauty 50."
      ],
      "metadata": {
        "id": "SQEwT67MfJxY"
      }
    },
    {
      "cell_type": "markdown",
      "source": [
        "##### 3. Will the gained insights help creating a positive business impact? \n",
        "Are there any insights that lead to negative growth? Justify with specific reason."
      ],
      "metadata": {
        "id": "b0JNsNcRphqO"
      }
    },
    {
      "cell_type": "markdown",
      "source": [
        "Genres app(count) more then creating a postive business impact and less then creating insights negative growth."
      ],
      "metadata": {
        "id": "RI-hjYL9Soiw"
      }
    },
    {
      "cell_type": "markdown",
      "source": [
        "#### Chart - 8"
      ],
      "metadata": {
        "id": "BZR9WyysphqO"
      }
    },
    {
      "cell_type": "code",
      "source": [
        "x = playstore_df[\"Rating\"]\n"
      ],
      "metadata": {
        "id": "6Pc_kP-vd80x"
      },
      "execution_count": null,
      "outputs": []
    },
    {
      "cell_type": "code",
      "source": [
        "playstore_df.describe()"
      ],
      "metadata": {
        "id": "bvdDq8tx1Otv"
      },
      "execution_count": null,
      "outputs": []
    },
    {
      "cell_type": "code",
      "source": [
        "plt.figure(figsize=(10,5))\n",
        "plt.xlabel(\"Reviews\")\n",
        "plt.ylabel(\"Frequency\")\n",
        "graph = sns.kdeplot(playstore_df.Reviews, color=\"Blue\", shade = True)\n",
        "plt.title('Distribution of Rating',size = 10);"
      ],
      "metadata": {
        "id": "ZdtFXU7qyMrC"
      },
      "execution_count": null,
      "outputs": []
    },
    {
      "cell_type": "markdown",
      "source": [
        "##### 1. Why did you pick the specific chart?"
      ],
      "metadata": {
        "id": "jj7wYXLtphqO"
      }
    },
    {
      "cell_type": "markdown",
      "source": [
        "This graph show the relationship of frequency and reviews and the data is continuous and easily understand in this data."
      ],
      "metadata": {
        "id": "ffYzka95JtQQ"
      }
    },
    {
      "cell_type": "markdown",
      "source": [
        "##### 2. What is/are the insight(s) found from the chart?"
      ],
      "metadata": {
        "id": "eZrbJ2SmphqO"
      }
    },
    {
      "cell_type": "markdown",
      "source": [
        "This chart shows that distribution of ratingin frequency and reviews. The chart are x-axis reviewsless than zero increase and after that constant the line and then firstly increase and then constant in continuous data."
      ],
      "metadata": {
        "id": "6XuI-TUy9h45"
      }
    },
    {
      "cell_type": "markdown",
      "source": [
        "#### Chart - 9"
      ],
      "metadata": {
        "id": "YJ55k-q6phqO"
      }
    },
    {
      "cell_type": "code",
      "source": [
        "# Chart - 9 visualization code\n",
        "# Android Version\n",
        "playstore_df['Android Ver'].unique()"
      ],
      "metadata": {
        "id": "B2aS4O1ophqO"
      },
      "execution_count": null,
      "outputs": []
    },
    {
      "cell_type": "code",
      "source": [
        "## Now we am going to group it to 1 till 8 version of android. Change the null value to 1.0.\n",
        "playstore_df['Android Ver'].replace(to_replace=['4.4W and up','Varies with device'], value=['4.4','1.0'],inplace=True)\n",
        "playstore_df['Android Ver'].replace({k: '1.0' for k in ['1.0','1.0 and up','1.5 and up','1.6 and up']},inplace=True)\n",
        "playstore_df['Android Ver'].replace({k: '2.0' for k in ['2.0 and up','2.0.1 and up','2.1 and up','2.2 and up','2.2 - 7.1.1','2.3 and up','2.3.3 and up']},inplace=True)\n",
        "playstore_df['Android Ver'].replace({k: '3.0' for k in ['3.0 and up','3.1 and up','3.2 and up']},inplace=True)\n",
        "playstore_df['Android Ver'].replace({k: '4.0' for k in ['4.0 and up','4.0.3 and up','4.0.3 - 7.1.1','4.1 and up','4.1 - 7.1.1','4.2 and up','4.3 and up','4.4','4.4 and up']},inplace=True)\n",
        "playstore_df['Android Ver'].replace({k: '5.0' for k in ['5.0 - 6.0','5.0 - 7.1.1','5.0 - 8.0','5.0 and up','5.1 and up']},inplace=True)\n",
        "playstore_df['Android Ver'].replace({k: '6.0' for k in ['6.0 and up']},inplace=True)\n",
        "playstore_df['Android Ver'].replace({k: '7.0' for k in ['7.0 - 7.1.1','7.0 and up','7.1 and up']},inplace=True)\n",
        "playstore_df['Android Ver'].replace({k: '8.0' for k in ['8.0 and up']},inplace=True)\n",
        "playstore_df['Android Ver'].fillna('1.0', inplace=True)"
      ],
      "metadata": {
        "id": "89WFs6mi-nZk"
      },
      "execution_count": null,
      "outputs": []
    },
    {
      "cell_type": "code",
      "source": [
        "#View the graph\n",
        "print(playstore_df.groupby('Category')['Android Ver'].value_counts())\n",
        "Type_cat = playstore_df.groupby('Category')['Android Ver'].value_counts().unstack().plot.barh(figsize=(10,18), width=1)\n",
        "plt.show()"
      ],
      "metadata": {
        "id": "t2zZeBQ6-qip"
      },
      "execution_count": null,
      "outputs": []
    },
    {
      "cell_type": "markdown",
      "source": [
        "##### 1. Why did you pick the specific chart?"
      ],
      "metadata": {
        "id": "gCFgpxoyphqP"
      }
    },
    {
      "cell_type": "markdown",
      "source": [
        "In this easy to understand app category and android version show in graph. "
      ],
      "metadata": {
        "id": "WbaZQjKyLDIp"
      }
    },
    {
      "cell_type": "markdown",
      "source": [
        "##### 2. What is/are the insight(s) found from the chart?"
      ],
      "metadata": {
        "id": "OVtJsKN_phqQ"
      }
    },
    {
      "cell_type": "markdown",
      "source": [
        "In this graph wheather,vedio player,trevel and local used in android1,android2,android3,android4 version and comics,business used in android4,android6,android8 version."
      ],
      "metadata": {
        "id": "2_cfZEWTL7qk"
      }
    },
    {
      "cell_type": "markdown",
      "source": [
        "#### Chart - 10 - Correlation Heatmap"
      ],
      "metadata": {
        "id": "NC_X3p0fY2L0"
      }
    },
    {
      "cell_type": "code",
      "source": [
        "#Creating seaborn heatmap for better visual representation of correlation.\n",
        "plt.figure(figsize = (20,10))\n",
        "sns.heatmap(playstore_df.corr(),annot= True,cmap=sns.color_palette('Pastel1'),square=True)\n",
        "plt.title('Corelation Heatmap for Playstore data and User review data', size=20)"
      ],
      "metadata": {
        "id": "WwAwUj9Pg3ly"
      },
      "execution_count": null,
      "outputs": []
    },
    {
      "cell_type": "code",
      "source": [
        "#Creating seaborn heatmap for better visual representation of correlation.\n",
        "plt.figure(figsize = (20,10))\n",
        "sns.heatmap(user_reviews_df.corr(),annot= True,cmap=sns.color_palette('Pastel1'),square=True)\n",
        "plt.title('Corelation Heatmap for Playstore data and User review data', size=20)"
      ],
      "metadata": {
        "id": "yFGD5VNOph9-"
      },
      "execution_count": null,
      "outputs": []
    },
    {
      "cell_type": "markdown",
      "source": [
        "##### 1. Why did you pick the specific chart?"
      ],
      "metadata": {
        "id": "UV0SzAkaZNRQ"
      }
    },
    {
      "cell_type": "markdown",
      "source": [
        "A Heat map is a graphical representation of multivariate data that is structured as matrix of coulmn and row.This chart are very useful in describing correlation among several numerical variable,visualizing patterns and anomalies."
      ],
      "metadata": {
        "id": "VaSzoMPIMsuK"
      }
    },
    {
      "cell_type": "markdown",
      "source": [
        "##### 2. What is/are the insight(s) found from the chart?"
      ],
      "metadata": {
        "id": "YPEH6qLeZNRQ"
      }
    },
    {
      "cell_type": "markdown",
      "source": [
        "We are curious how both the data frames are related to each other. Is there any positive or negative correlation between them? For that purpose we have merged both the dataframes for obtaining results and we have observed that:\n",
        "There is a slightly positive correlation(0.26) between sentiment polarity and sentiment subjectivity that means if users share the positive reviews (sentiment polarity) then there are many chances that users are sharing their personal opinion and not factual information(Sentiment Subjectivity).\n",
        "Size and price are negatively correlated(-0.013). There may be a reason when the size of an app increases people start disliking the app because it consumes more storage, takes more RAM and needs a high speed connection for its execution.\n",
        "There is a positive correlation between install and reviews(0.64)because as the reviews increase, people start noticing the app and install."
      ],
      "metadata": {
        "id": "4QosCre_OU1f"
      }
    },
    {
      "cell_type": "markdown",
      "source": [
        "#### Chart - 11 - Pair Plot "
      ],
      "metadata": {
        "id": "q29F0dvdveiT"
      }
    },
    {
      "cell_type": "code",
      "source": [
        "# Pair Plot visualization code\n",
        "sns.pairplot(playstore_df)"
      ],
      "metadata": {
        "id": "o58-TEIhveiU"
      },
      "execution_count": null,
      "outputs": []
    },
    {
      "cell_type": "code",
      "source": [
        "# Pair Plot visualization code\n",
        "sns.pairplot(user_reviews_df)"
      ],
      "metadata": {
        "id": "gR76wZNz0A0E"
      },
      "execution_count": null,
      "outputs": []
    },
    {
      "cell_type": "markdown",
      "source": [
        "##### 1. Why did you pick the specific chart?"
      ],
      "metadata": {
        "id": "EXh0U9oCveiU"
      }
    },
    {
      "cell_type": "markdown",
      "source": [
        "Pair plot is used to understand the best set of features to explain a relationship between two variables or to form the most separated clusters. It also helps to form some simple classification models by drawing some simple lines or make linear separation in our data-set.\n",
        "\n",
        "Thus, I used pair plot to analyse the patterns of data and realationship between the features. It's exactly same as the correlation map but here you will get the graphical representation."
      ],
      "metadata": {
        "id": "pToKVVyQTROv"
      }
    },
    {
      "cell_type": "markdown",
      "source": [
        "##### 2. What is/are the insight(s) found from the chart?"
      ],
      "metadata": {
        "id": "22aHeOlLveiV"
      }
    },
    {
      "cell_type": "markdown",
      "source": [
        "In Reviews play store data are postive corelation,costant at one point.\n",
        "Sentiment- subjectivityand sentiment polarty graph show the graph no- corelation and data vary ponit to point."
      ],
      "metadata": {
        "id": "tIc2--lPZAKj"
      }
    },
    {
      "cell_type": "markdown",
      "source": [
        "## **5. Solution to Business Objective**"
      ],
      "metadata": {
        "id": "JcMwzZxoAimU"
      }
    },
    {
      "cell_type": "markdown",
      "source": [
        "#### What do you suggest the client to achieve Business Objective ? \n",
        "Explain Briefly."
      ],
      "metadata": {
        "id": "8G2x9gOozGDZ"
      }
    },
    {
      "cell_type": "markdown",
      "source": [
        "Revenue objectives: Maintaining consistent profitability is essential for any business. Companies cannot be profitable without consistent profit. Measuring revenue is a great way to track the sustainability of a firm."
      ],
      "metadata": {
        "id": "fj4ba2pKfNOh"
      }
    },
    {
      "cell_type": "markdown",
      "source": [
        "Operational objectives: Operational objectives include making sure that the logistical elements of your business are up to scratch. For instance, it might mean ensuring your supplies will arrive from a manufacturer at the same time each month. These objectives keep the company running smoothly."
      ],
      "metadata": {
        "id": "j22HDy8ofZuN"
      }
    },
    {
      "cell_type": "markdown",
      "source": [
        "Productivity and performance: Employees are the lifeblood of a business. Making sure that employees remain productive drives revenue and improves customer satisfaction. Measuring employee satisfaction and setting goals for each team ensures efficiency and productivity."
      ],
      "metadata": {
        "id": "KlOMDzATfj-_"
      }
    },
    {
      "cell_type": "markdown",
      "source": [
        "Customer satisfaction: The customer is always a top priority in any business. Some organizations regularly survey their clients to ensure that they’re making the right impression and driving loyalty."
      ],
      "metadata": {
        "id": "Z1HcsHcmfuF1"
      }
    },
    {
      "cell_type": "markdown",
      "source": [
        "Growth: Companies measure growth over the long-term and short-term. Growth appears in the form of website traffic, social media followers, turnover and product sales and much more."
      ],
      "metadata": {
        "id": "_215xH1Gf7rb"
      }
    },
    {
      "cell_type": "markdown",
      "source": [
        "# **Conclusion**"
      ],
      "metadata": {
        "id": "gCX9965dhzqZ"
      }
    },
    {
      "cell_type": "markdown",
      "source": [
        "An analysis of apps on the Google Play Store would likely involve collecting data on various apps, such as their ratings, number of downloads, and reviews. This data could then be analyzed to identify trends and patterns, such as which types of apps are the most popular or which apps have the highest ratings. The analysis may also look at the characteristics of successful apps, such as their features and functionality, in order to identify what makes them appealing to users. Additionally, the analysis may also examine the overall state of the app market, such as the number of apps available and the level of competition in different categories. The findings of the analysis could be used to inform the development of new apps and to help app developers improve their existing products."
      ],
      "metadata": {
        "id": "hjMiHMSrrpYO"
      }
    },
    {
      "cell_type": "markdown",
      "source": [
        "### ***Hurrah! You have successfully completed your EDA Capstone Project !!!***"
      ],
      "metadata": {
        "id": "gIfDvo9L0UH2"
      }
    }
  ]
}